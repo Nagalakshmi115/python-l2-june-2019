{
 "cells": [
  {
   "cell_type": "code",
   "execution_count": 7,
   "metadata": {},
   "outputs": [
    {
     "name": "stdout",
     "output_type": "stream",
     "text": [
      "Invalid phone number or email\n"
     ]
    }
   ],
   "source": [
    "# Function to add contacts text file\n",
    "\n",
    "from Packages.validators import phoneNumberValidator as pnv, emailValidator as ev\n",
    "\n",
    "def addContact(name,phone,email):\n",
    "    #store data as name,phone,email in the contacts files\n",
    "    filename='Data files/contacts.txt'\n",
    "    if not checkContactExists(name):\n",
    "        if pnv(phone) and ev(email):\n",
    "            with open(filename,'a') as f:\n",
    "                line=name + ',' + str(phone) + ',' + email + '\\n'\n",
    "                f.write(line)\n",
    "            print(name,'added to contacts')\n",
    "        else:\n",
    "            print('Invalid phone number or email')\n",
    "            return\n",
    "    else:\n",
    "        print(name,'already exist')\n",
    "    return\n",
    "\n",
    "import re\n",
    "#Function to check if contact already exists\n",
    "def checkContactExists(name):\n",
    "    filename='Data files/contacts.txt'\n",
    "    with open(filename,'r') as f:\n",
    "        filedata=f.read()\n",
    "        pattern=name+','\n",
    "    return re.search(pattern,filedata)\n",
    "\n",
    "#if checkContactExists(\"name1\"):\n",
    "    #print(True)\n",
    "#else:\n",
    "    #print(False)\n",
    "    \n",
    "addContact('name5',9908634555,'name5@gmail.com')\n",
    "    "
   ]
  },
  {
   "cell_type": "code",
   "execution_count": 36,
   "metadata": {},
   "outputs": [
    {
     "data": {
      "text/plain": [
       "'name89876543210name123@gmail.com\\n'"
      ]
     },
     "execution_count": 36,
     "metadata": {},
     "output_type": "execute_result"
    }
   ],
   "source": [
    "filename='Data files/contacts.txt'\n",
    "def csvToList(filename):\n",
    "    li=[]\n",
    "    with open(filename,'r') as f:\n",
    "        for line in f:\n",
    "            li.append(line.split(','))\n",
    "        return li\n",
    "    \n",
    "def listToFile(li):\n",
    "    s=''\n",
    "    for i in li:\n",
    "        s+=s.join(i)\n",
    "    return s\n",
    "\n",
    "\n",
    "li=csvToList(filename)\n",
    "listToFile(li)\n",
    "    "
   ]
  },
  {
   "cell_type": "code",
   "execution_count": 27,
   "metadata": {},
   "outputs": [
    {
     "name": "stdout",
     "output_type": "stream",
     "text": [
      "name8 already exist\n"
     ]
    }
   ],
   "source": [
    "from Packages.validators import phoneNumberValidator as pnv, emailValidator as ev\n",
    "\n",
    "def addContact(name,phone,email):\n",
    "    #store data as name,phone,email in the contacts files\n",
    "    filename='Data files/contacts.txt'\n",
    "    if not checkContactExists(name):\n",
    "        if pnv(phone) and ev(email):\n",
    "            #print(\"This block is executed\")\n",
    "            with open(filename,'a') as f:\n",
    "                #print(\"This block is executed\")\n",
    "                line=name + ',' + str(phone) + ',' + email + '\\n'\n",
    "                f.write(line)\n",
    "            print(name,'added to contacts')\n",
    "        else:\n",
    "            print('Invalid phone number or email')\n",
    "            return\n",
    "    else:\n",
    "        print(name,'already exist')\n",
    "    return\n",
    "\n",
    "import re\n",
    "#Function to check if contact already exists\n",
    "def checkContactExists(name):\n",
    "    filename='Data files/contacts.txt'\n",
    "    with open(filename,'r') as f:\n",
    "        filedata=f.read()\n",
    "        pattern=name+','\n",
    "    return re.search(pattern,filedata)\n",
    "\n",
    "#if checkContactExists(\"name1\"):\n",
    "    #print(True)\n",
    "#else:\n",
    "    #print(False)\n",
    "    \n",
    "addContact('name8',9899889234,'name123@gmail.com')\n",
    "    "
   ]
  },
  {
   "cell_type": "code",
   "execution_count": 17,
   "metadata": {},
   "outputs": [
    {
     "name": "stdout",
     "output_type": "stream",
     "text": [
      "True\n"
     ]
    }
   ],
   "source": [
    "from Packages.validators import phoneNumberValidator as pnv, emailValidator as ev\n",
    "if pnv(9876543210) and ev('venkatesh.u@apssdc.in'):\n",
    "    print(True)\n",
    "else:\n",
    "    print(False)"
   ]
  },
  {
   "cell_type": "code",
   "execution_count": null,
   "metadata": {},
   "outputs": [],
   "source": []
  }
 ],
 "metadata": {
  "kernelspec": {
   "display_name": "Python 3",
   "language": "python",
   "name": "python3"
  },
  "language_info": {
   "codemirror_mode": {
    "name": "ipython",
    "version": 3
   },
   "file_extension": ".py",
   "mimetype": "text/x-python",
   "name": "python",
   "nbconvert_exporter": "python",
   "pygments_lexer": "ipython3",
   "version": "3.7.3"
  }
 },
 "nbformat": 4,
 "nbformat_minor": 2
}
