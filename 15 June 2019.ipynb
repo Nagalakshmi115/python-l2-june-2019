{
 "cells": [
  {
   "cell_type": "code",
   "execution_count": 1,
   "metadata": {},
   "outputs": [
    {
     "name": "stdout",
     "output_type": "stream",
     "text": [
      "5\n",
      "2 3 5 "
     ]
    }
   ],
   "source": [
    "# prime numbersRange\n",
    "\n",
    "def isPrime(n):\n",
    "    count=0\n",
    "    for i in range(1,n+1):\n",
    "        if n%i==0:\n",
    "            count+=1\n",
    "    if count==2:\n",
    "        return i\n",
    "def primeRange(t):\n",
    "    for i in range(1,t+1):\n",
    "        if isPrime(i):\n",
    "            print(i,end=\" \")\n",
    "t=int(input())    \n",
    "primeRange(t)\n",
    "        "
   ]
  },
  {
   "cell_type": "code",
   "execution_count": 2,
   "metadata": {},
   "outputs": [
    {
     "name": "stdout",
     "output_type": "stream",
     "text": [
      "wer\n",
      "NO\n"
     ]
    }
   ],
   "source": [
    "# Palindrome String\n",
    "\n",
    "def palindromeString(t):\n",
    "    if t[::-1]==t:\n",
    "        print(\"YES\")\n",
    "    else:\n",
    "        print(\"NO\")\n",
    "    \n",
    "t=input()\n",
    "palindromeString(t)\n",
    "    \n",
    "    "
   ]
  },
  {
   "cell_type": "code",
   "execution_count": 3,
   "metadata": {},
   "outputs": [
    {
     "name": "stdout",
     "output_type": "stream",
     "text": [
      "1 2 4\n",
      "0\n"
     ]
    }
   ],
   "source": [
    "# Count Divisors\n",
    "\n",
    "def countDivisors(l,r,k):\n",
    "    count=0\n",
    "    for n in range(l,r+1):\n",
    "        if n%k==0 :\n",
    "            count+=1\n",
    "    print(count)\n",
    "    return\n",
    "\n",
    "\n",
    "s=input() \n",
    "s=s.split()\n",
    "\n",
    "l=int(s[0])\n",
    "r=int(s[1])\n",
    "k=int(s[2])\n",
    "countDivisors(l,r,k)"
   ]
  },
  {
   "cell_type": "code",
   "execution_count": 4,
   "metadata": {},
   "outputs": [
    {
     "name": "stdout",
     "output_type": "stream",
     "text": [
      "3\n",
      "6\n"
     ]
    }
   ],
   "source": [
    "# Factorial\n",
    "\n",
    "def factorial(n):\n",
    "    fact=1\n",
    "    for i in range(2,n+1):\n",
    "        fact=fact*i\n",
    "    print(fact)\n",
    "    \n",
    "s=input()\n",
    "n=int(s)\n",
    "factorial(n)"
   ]
  },
  {
   "cell_type": "code",
   "execution_count": 2,
   "metadata": {},
   "outputs": [
    {
     "name": "stdout",
     "output_type": "stream",
     "text": [
      "tri\n"
     ]
    },
    {
     "data": {
      "text/plain": [
       "' TRI'"
      ]
     },
     "execution_count": 2,
     "metadata": {},
     "output_type": "execute_result"
    }
   ],
   "source": [
    "# Toggle String\n",
    "\n",
    "def toggleString(s):\n",
    "    a=\" \"\n",
    "    for i in s:\n",
    "        if i.islower():\n",
    "            a=a+i.upper()\n",
    "        else:\n",
    "            a=a+i.lower()\n",
    "    return a\n",
    "    \n",
    "\n",
    "s=input()\n",
    "\n",
    "toggleString(s)"
   ]
  },
  {
   "cell_type": "code",
   "execution_count": 1,
   "metadata": {},
   "outputs": [
    {
     "name": "stdout",
     "output_type": "stream",
     "text": [
      "1\n",
      "lax xal\n",
      "YES\n"
     ]
    }
   ],
   "source": [
    "# Two String\n",
    "\n",
    "def twoStrings(a,b):\n",
    "    a1=[]\n",
    "    b1=[]\n",
    "    for i in a:\n",
    "        a1.append(i)\n",
    "    for j in b:\n",
    "        b1.append(j)\n",
    "    a1.sort()\n",
    "    b1.sort()\n",
    "    if(a1==b1):\n",
    "        print(\"YES\")\n",
    "    else:\n",
    "        print(\"NO\")\n",
    "    \n",
    "    \n",
    "t=int(input())\n",
    "for i in range(t):\n",
    "    s=input()\n",
    "    l=s.split()\n",
    "    a=l[0]\n",
    "    b=l[1]\n",
    "    twoStrings(a,b)\n"
   ]
  },
  {
   "cell_type": "code",
   "execution_count": 7,
   "metadata": {},
   "outputs": [
    {
     "name": "stdout",
     "output_type": "stream",
     "text": [
      "ad\n",
      "5\n"
     ]
    }
   ],
   "source": [
    "# Char Sum\n",
    "\n",
    "def charSum(a):\n",
    "    sum=0\n",
    "    for i in a:\n",
    "        sum=sum+ord(i)-96\n",
    "    print(sum)\n",
    "        \n",
    "\n",
    "a=input()\n",
    "charSum(a)\n",
    "        "
   ]
  },
  {
   "cell_type": "code",
   "execution_count": null,
   "metadata": {},
   "outputs": [],
   "source": []
  }
 ],
 "metadata": {
  "kernelspec": {
   "display_name": "Python 3",
   "language": "python",
   "name": "python3"
  },
  "language_info": {
   "codemirror_mode": {
    "name": "ipython",
    "version": 3
   },
   "file_extension": ".py",
   "mimetype": "text/x-python",
   "name": "python",
   "nbconvert_exporter": "python",
   "pygments_lexer": "ipython3",
   "version": "3.7.3"
  }
 },
 "nbformat": 4,
 "nbformat_minor": 2
}
