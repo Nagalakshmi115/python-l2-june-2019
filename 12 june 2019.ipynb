{
 "cells": [
  {
   "cell_type": "markdown",
   "metadata": {},
   "source": [
    "# Problem sloving and programming\n",
    "#### Date 12 june 2019\n",
    "#### Day objectives\n",
    "* String Slicing\n",
    "* Functions in python\n",
    "* Basic problems related to conditional statements using functions\n",
    "* Iteration in python\n",
    "* Problem set for practice"
   ]
  },
  {
   "cell_type": "markdown",
   "metadata": {},
   "source": [
    "### String Slicing\n"
   ]
  },
  {
   "cell_type": "code",
   "execution_count": 18,
   "metadata": {},
   "outputs": [
    {
     "data": {
      "text/plain": [
       "'ht'"
      ]
     },
     "execution_count": 18,
     "metadata": {},
     "output_type": "execute_result"
    }
   ],
   "source": [
    "s1=\"python\"\n",
    "s1[len(s1)-1] # Accessing last character in a string\n",
    "s1[0] # Accessing first character in a string\n",
    "s1[1] # Accessing second character in a string\n",
    "s1[-1] # Accessing last character in a string\n",
    "s1[-2]\n",
    "s1[0:2] # first value inclusive and second value is exclusive\n",
    "s1[-2:] #Accessing the last two characters in a string\n",
    "s1[:-1] # Accessing the except last character in a string\n",
    "s1[:] # Accessing the total string\n",
    "s1[4:] #Accessing all characters 5 th characters to end of a string\n",
    "\n",
    "# Accessig all characters except first and last characters\n",
    "s1[1:len(s1)-1]\n",
    "s1[1:-1]\n",
    "# Accessing middle character in a string\n",
    "s1[len(s1)//2]\n",
    "s1[-1::-1] # Reverse of a string\n",
    "\n",
    "# Access last two characters in  reverse order\n",
    "s1[-1:-3:-1]\n",
    "\n",
    "# Reverse the middle two characters in an even length string\n",
    "s1[len(s1)//2:len(s1)//2-2:-1]\n",
    "    \n",
    "# Accessing alternate characters in a string\n",
    "# \"python\" -> \"pto\"\n",
    "s1[::2]\n",
    "\n",
    "# Acceesin alternate characters of a string in reverse \n",
    "# \"python\" -> \"nhy\"\n",
    "s1[::-2]"
   ]
  },
  {
   "cell_type": "code",
   "execution_count": null,
   "metadata": {},
   "outputs": [],
   "source": []
  },
  {
   "cell_type": "markdown",
   "metadata": {},
   "source": [
    "## Functions"
   ]
  },
  {
   "cell_type": "code",
   "execution_count": 20,
   "metadata": {},
   "outputs": [
    {
     "data": {
      "text/plain": [
       "'nohtyp'"
      ]
     },
     "execution_count": 20,
     "metadata": {},
     "output_type": "execute_result"
    }
   ],
   "source": [
    "#Function to reverse a string\n",
    "\n",
    "def reverseString(s):\n",
    "    return s[::-1]\n",
    "reverseString(\"python\")"
   ]
  },
  {
   "cell_type": "code",
   "execution_count": 23,
   "metadata": {},
   "outputs": [
    {
     "data": {
      "text/plain": [
       "False"
      ]
     },
     "execution_count": 23,
     "metadata": {},
     "output_type": "execute_result"
    }
   ],
   "source": [
    "#Function to check if a string is a palindrome\n",
    "def palindrome(s):\n",
    "    if s==s[::-1]:\n",
    "        return True\n",
    "    else:\n",
    "        return False\n",
    "palindrome(\"1234\")"
   ]
  },
  {
   "cell_type": "code",
   "execution_count": 25,
   "metadata": {},
   "outputs": [
    {
     "data": {
      "text/plain": [
       "True"
      ]
     },
     "execution_count": 25,
     "metadata": {},
     "output_type": "execute_result"
    }
   ],
   "source": [
    "#Function to check if a given year is a leap year\n",
    "\n",
    "def isLeapYear(year):\n",
    "    if year%400==0 or (year%4==0 and year%100!=0):\n",
    "        return True\n",
    "    else:\n",
    "        return False\n",
    "isLeapYear(2016)"
   ]
  },
  {
   "cell_type": "code",
   "execution_count": 28,
   "metadata": {},
   "outputs": [
    {
     "data": {
      "text/plain": [
       "3"
      ]
     },
     "execution_count": 28,
     "metadata": {},
     "output_type": "execute_result"
    }
   ],
   "source": [
    "#Function to count the number of digits in a given number\n",
    "\n",
    "def countDigits(n):\n",
    "    return len(str(n))\n",
    "countDigits(123)"
   ]
  },
  {
   "cell_type": "code",
   "execution_count": 27,
   "metadata": {},
   "outputs": [
    {
     "data": {
      "text/plain": [
       "2012"
      ]
     },
     "execution_count": 27,
     "metadata": {},
     "output_type": "execute_result"
    }
   ],
   "source": [
    "# Function to identify the greatest of 4 numbers\n",
    "def greatestnumber(n1,n2,n3,n4):\n",
    "    if n1>n2 and n1>n3 and n1>n4:\n",
    "        return n1\n",
    "    elif n2>n3 and n2>n4:\n",
    "        return n2\n",
    "    elif n3>n4:\n",
    "        return n3\n",
    "    else:\n",
    "        return n4\n",
    "greatestnumber(32,2012,14,15)"
   ]
  },
  {
   "cell_type": "code",
   "execution_count": null,
   "metadata": {},
   "outputs": [],
   "source": []
  },
  {
   "cell_type": "markdown",
   "metadata": {},
   "source": [
    "### Iteration\n",
    "\n",
    "- for\n",
    "- while"
   ]
  },
  {
   "cell_type": "code",
   "execution_count": 38,
   "metadata": {
    "scrolled": true
   },
   "outputs": [
    {
     "name": "stdout",
     "output_type": "stream",
     "text": [
      "1 2 3 4 5 6 7 8 9 10 11 12 13 14 15 16 17 18 19 20 \n",
      "1 2 3 4 5 6 7 8 9 10 \n"
     ]
    }
   ],
   "source": [
    "# Function to print n natural numbers\n",
    "\n",
    "def printNNaturalNumbers(n):\n",
    "    for counter in range(1,n+1):\n",
    "        print(counter, end=\" \")\n",
    "    print()\n",
    "    return\n",
    "printNNaturalNumbers(20)    \n",
    "printNNaturalNumbers(10)"
   ]
  },
  {
   "cell_type": "code",
   "execution_count": 41,
   "metadata": {},
   "outputs": [
    {
     "name": "stdout",
     "output_type": "stream",
     "text": [
      "1 2 3 4 5 6 7 8 9 10 "
     ]
    }
   ],
   "source": [
    "# Function to print N natural numbers using a while loop\n",
    "def nNaturalNumbers(n):\n",
    "    counter=1\n",
    "    while counter<=n:\n",
    "        print(counter,end=\" \")\n",
    "        counter=counter+1\n",
    "    return\n",
    "nNaturalNumbers(10)"
   ]
  },
  {
   "cell_type": "code",
   "execution_count": 1,
   "metadata": {},
   "outputs": [
    {
     "name": "stdout",
     "output_type": "stream",
     "text": [
      "12 18 24 30 36 42 48 54 60 66 72 78 84 90 96 102 108 114 120 126 132 138 144 150 156 162 168 174 180 186 192 198 204 210 216 222 228 234 240 246 252 258 264 270 276 282 288 294 300 306 312 318 324 330 336 342 348 354 360 366 372 378 384 390 396 402 408 414 420 426 432 438 444 450 456 462 468 474 480 486 492 498 504 510 516 522 528 534 540 546 552 558 564 570 576 582 588 594 600 606 612 618 624 630 636 642 648 654 660 666 672 678 684 690 696 702 708 714 720 726 732 738 744 750 756 762 768 774 780 786 792 798 804 810 816 822 828 834 840 846 852 858 864 870 876 882 888 894 900 906 912 918 924 930 936 942 948 954 960 966 972 978 984 990 996 "
     ]
    }
   ],
   "source": [
    "# Function to print all numbers divisible by 6 and not a factor of 100 in given range (lb,ub)\n",
    "def numberDivisibility(lb,ub):\n",
    "    counter=lb\n",
    "    for counter in range(lb,ub+1):\n",
    "        if counter%6==0 and 100%counter!=0:\n",
    "            print(counter, end=\" \")\n",
    "    return    \n",
    "numberDivisibility(10,1000)    "
   ]
  },
  {
   "cell_type": "code",
   "execution_count": null,
   "metadata": {},
   "outputs": [],
   "source": [
    "#Function to find the average of cubes of all even numbers in a given range(lb,ub)inclusive\n",
    "def cubesEvenNumber(lb,ub)\n",
    "    counter=lb\n",
    "    for counter in range(lb,ub+1):\n",
    "        while counter%2==0:\n",
    "            print(counnter**3, end=\" \")\n",
    "        return\n",
    "        counter=counter+1\n",
    "    return\n",
    "cubesEvenNumber(1,20)\n",
    "        \n",
    "    "
   ]
  },
  {
   "cell_type": "code",
   "execution_count": null,
   "metadata": {},
   "outputs": [],
   "source": [
    "#Function to generate the list of factors for a given number is 12\n",
    "#12-> 1 2 3 4 6 12\n",
    "def factorsNumber(n):\n",
    "    for counter in range(1,n+1):\n",
    "        if n%counter==0:\n",
    "            print(counter, end=\" \")\n",
    "        else:\n",
    "        return\n",
    "    return\n",
    "factorsNumber(12)\n",
    "        \n",
    "    "
   ]
  },
  {
   "cell_type": "code",
   "execution_count": null,
   "metadata": {},
   "outputs": [],
   "source": [
    "#Function to calculate the factorial of a given number"
   ]
  },
  {
   "cell_type": "code",
   "execution_count": null,
   "metadata": {},
   "outputs": [],
   "source": [
    "# Function to check if a given number is prime"
   ]
  },
  {
   "cell_type": "code",
   "execution_count": null,
   "metadata": {},
   "outputs": [],
   "source": [
    "# Function to calculate the average first N prime numbers"
   ]
  },
  {
   "cell_type": "code",
   "execution_count": null,
   "metadata": {},
   "outputs": [],
   "source": [
    "#Function to generate all perfect numbers"
   ]
  }
 ],
 "metadata": {
  "kernelspec": {
   "display_name": "Python 3",
   "language": "python",
   "name": "python3"
  },
  "language_info": {
   "codemirror_mode": {
    "name": "ipython",
    "version": 3
   },
   "file_extension": ".py",
   "mimetype": "text/x-python",
   "name": "python",
   "nbconvert_exporter": "python",
   "pygments_lexer": "ipython3",
   "version": "3.7.3"
  }
 },
 "nbformat": 4,
 "nbformat_minor": 2
}
