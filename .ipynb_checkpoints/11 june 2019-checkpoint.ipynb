{
 "cells": [
  {
   "cell_type": "markdown",
   "metadata": {},
   "source": [
    "##  Markdown  Basics \n",
    "* ### *Python* \n",
    "* *gace*\n",
    "* Normal text \n",
    "  * sublist 1\n",
    "  * sublist 2 \n",
    "  \n",
    "  \n",
    "1. OREDERED LIST ELEMENT 1 <br>\n",
    "2. ORDERED LIST ELEMENT 2  <br>\n",
    "3. OREDERED LIST ELEMENT 3\n",
    "\n",
    "[Jupyter Logo](jupyterLogo.png) \n",
    "![jupyter Logo](jupyterLogo.png)\n",
    "<img src=\"jupyterLogo.png\" style=\"float:left\">\n",
    "\n",
    "\n",
    "\n",
    "\n",
    "\n"
   ]
  },
  {
   "cell_type": "code",
   "execution_count": null,
   "metadata": {},
   "outputs": [],
   "source": []
  },
  {
   "cell_type": "code",
   "execution_count": null,
   "metadata": {},
   "outputs": [],
   "source": []
  },
  {
   "cell_type": "code",
   "execution_count": null,
   "metadata": {},
   "outputs": [],
   "source": []
  }
 ],
 "metadata": {
  "kernelspec": {
   "display_name": "Python 3",
   "language": "python",
   "name": "python3"
  },
  "language_info": {
   "codemirror_mode": {
    "name": "ipython",
    "version": 3
   },
   "file_extension": ".py",
   "mimetype": "text/x-python",
   "name": "python",
   "nbconvert_exporter": "python",
   "pygments_lexer": "ipython3",
   "version": "3.7.3"
  }
 },
 "nbformat": 4,
 "nbformat_minor": 2
}
