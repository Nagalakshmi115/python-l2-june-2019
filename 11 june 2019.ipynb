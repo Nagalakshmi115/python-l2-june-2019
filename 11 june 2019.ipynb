{
 "cells": [
  {
   "cell_type": "markdown",
   "metadata": {},
   "source": [
    "###  Markdown  Basics \n",
    "* ### *Python* \n",
    "* *gace*\n",
    "* Normal textb\n",
    "  * sublist 1\n",
    "  * sublist 2 \n",
    "  \n",
    "  \n",
    "1. OREDERED LIST ELEMENT 1 <br>\n",
    "2. ORDERED LIST ELEMENT 2  <br>\n",
    "3. OREDERED LIST ELEMENT 3\n",
    "\n",
    "[Jupyter Logo](jupyterLogo.png) \n",
    "![jupyter Logo](jupyterLogo.png)\n",
    "<img src=\"jupyterLogo.png\" style=\"float:left\">\n",
    "\n",
    "\n",
    "\n",
    "I get 10 times more traffic from [Google] [1] than from\n",
    "[Yahoo] [2] or [MSN] [3].\n",
    "\n",
    "  [1]: http://google.com/        \"Google\"\n",
    "  [2]: http://search.yahoo.com/  \"Yahoo Search\"\n",
    "  [3]: http://search.msn.com/    \"MSN Search\"\n",
    "\n",
    "\n",
    "\n",
    "<code>PRINTF(\"HELLOOO\")</code>\n",
    "\n",
    "<https://sites.google.com/view/apssdc-level2-june-2019/resources>\n",
    "\n",
    "<N140115@rguktn.ac.in>\n"
   ]
  },
  {
   "cell_type": "code",
   "execution_count": null,
   "metadata": {},
   "outputs": [],
   "source": []
  },
  {
   "cell_type": "code",
   "execution_count": null,
   "metadata": {},
   "outputs": [],
   "source": []
  },
  {
   "cell_type": "code",
   "execution_count": null,
   "metadata": {},
   "outputs": [],
   "source": []
  },
  {
   "cell_type": "markdown",
   "metadata": {},
   "source": [
    "## Python Basics\n",
    "Python version 3.7\n",
    "\n",
    "-scripting\n",
    "\n",
    "-object oriented\n",
    "\n",
    "-functional"
   ]
  },
  {
   "cell_type": "code",
   "execution_count": 10,
   "metadata": {},
   "outputs": [
    {
     "name": "stdout",
     "output_type": "stream",
     "text": [
      "hellooo dad hi|| hi daddy\n"
     ]
    }
   ],
   "source": [
    "# Python Comments\n",
    "print(\"hellooo dad\", \"hi\",end=\"|| \") # basic output\n",
    "print(\"hi daddy\")\n",
    "\n"
   ]
  },
  {
   "cell_type": "code",
   "execution_count": null,
   "metadata": {},
   "outputs": [],
   "source": []
  },
  {
   "cell_type": "markdown",
   "metadata": {},
   "source": [
    "### Assignment"
   ]
  },
  {
   "cell_type": "code",
   "execution_count": 5,
   "metadata": {},
   "outputs": [
    {
     "name": "stdout",
     "output_type": "stream",
     "text": [
      "123 124 123456\n"
     ]
    },
    {
     "data": {
      "text/plain": [
       "123456"
      ]
     },
     "execution_count": 5,
     "metadata": {},
     "output_type": "execute_result"
    }
   ],
   "source": [
    "n1=123456 # single variable assignment\n",
    "n2=n3=n4= n1 # multi variable assignment \n",
    "\n",
    "a,b,c=123,124,154 # multi variavle assignment with different values\n",
    "print(a,b,n2)\n",
    "n2"
   ]
  },
  {
   "cell_type": "markdown",
   "metadata": {},
   "source": [
    "### Data Types & Conversions\n",
    "\n",
    "- int\n",
    "- float\n",
    "- string\n"
   ]
  },
  {
   "cell_type": "code",
   "execution_count": 7,
   "metadata": {},
   "outputs": [
    {
     "data": {
      "text/plain": [
       "3.0"
      ]
     },
     "execution_count": 7,
     "metadata": {},
     "output_type": "execute_result"
    }
   ],
   "source": [
    "type(a)\n",
    "s1=\"Dad\"\n",
    "type(s1)\n",
    "\n",
    "f1=(3.5)\n",
    "type(f1)\n",
    "\n",
    "int(f1)\n",
    "float(str(int(f1)))\n",
    "\n"
   ]
  },
  {
   "cell_type": "markdown",
   "metadata": {},
   "source": [
    "### Arithmetic Operations\n",
    "- +\n",
    "- -\n",
    "- *\n",
    "- /\n",
    "- **\n",
    "- %"
   ]
  },
  {
   "cell_type": "code",
   "execution_count": 37,
   "metadata": {},
   "outputs": [
    {
     "data": {
      "text/plain": [
       "str"
      ]
     },
     "execution_count": 37,
     "metadata": {},
     "output_type": "execute_result"
    }
   ],
   "source": [
    "n1 %11\n",
    "\n",
    "n3 = n2/123456\n",
    "type(n3)\n",
    "n3\n",
    "#len(str(n3))\n",
    "\n",
    "\n",
    "atoms=10**82\n",
    "len(str(atoms))\n",
    "    type(str(atoms))"
   ]
  },
  {
   "cell_type": "code",
   "execution_count": null,
   "metadata": {},
   "outputs": [],
   "source": []
  },
  {
   "cell_type": "markdown",
   "metadata": {},
   "source": [
    "###  Conditionals"
   ]
  },
  {
   "cell_type": "code",
   "execution_count": 58,
   "metadata": {},
   "outputs": [
    {
     "name": "stdout",
     "output_type": "stream",
     "text": [
      "FLASE\n"
     ]
    }
   ],
   "source": [
    "if atoms <10**9 :\n",
    "    print(\"TRUE\")\n",
    "else:\n",
    "    print(\"FALSE\")\n",
    "    \n",
    "\n",
    "\n",
    "\n"
   ]
  },
  {
   "cell_type": "code",
   "execution_count": 3,
   "metadata": {},
   "outputs": [
    {
     "name": "stdout",
     "output_type": "stream",
     "text": [
      "odd\n"
     ]
    }
   ],
   "source": [
    "# check if a number is Even\n",
    "\n",
    "n=123\n",
    "if n%2==0:\n",
    "    print(\"even\")\n",
    "else:\n",
    "    print(\"odd\")\n"
   ]
  },
  {
   "cell_type": "code",
   "execution_count": null,
   "metadata": {},
   "outputs": [],
   "source": []
  },
  {
   "cell_type": "code",
   "execution_count": 4,
   "metadata": {},
   "outputs": [
    {
     "name": "stdout",
     "output_type": "stream",
     "text": [
      " enter the first number-1\n",
      "enter the second number-50\n",
      "enter the third number-100\n",
      "-1  is the greatest number\n"
     ]
    }
   ],
   "source": [
    "# greatest number\n",
    "\n",
    "n1=int(input(\" enter the first number\"))\n",
    "n2=int(input(\"enter the second number\"))\n",
    "n3=int(input(\"enter the third number\"))\n",
    "if n1>n2 and n1>n3:\n",
    "    print(n1,\" is the greatest number\")\n",
    "elif n2>n3 :\n",
    "    print(n2,\"is the greatest number\")\n",
    "else:\n",
    "    print(n3,\"is the greatest number\")\n",
    "    "
   ]
  },
  {
   "cell_type": "markdown",
   "metadata": {},
   "source": []
  },
  {
   "cell_type": "code",
   "execution_count": 21,
   "metadata": {},
   "outputs": [
    {
     "name": "stdout",
     "output_type": "stream",
     "text": [
      "2016 is not leapyear\n"
     ]
    }
   ],
   "source": [
    "# leap year\n",
    "\n",
    "n1=2016\n",
    "if n1%400==0 or (n1%4!=0 and n1%100!=0):\n",
    "    print(n1,\"is leapyear\")\n",
    "else:\n",
    "    print(n1,\"is not leapyear\")\n",
    "    \n",
    "    \n",
    "    "
   ]
  },
  {
   "cell_type": "code",
   "execution_count": 12,
   "metadata": {},
   "outputs": [
    {
     "name": "stdout",
     "output_type": "stream",
     "text": [
      "enter any number2\n",
      "enter any first 1\n",
      "enter any number10\n",
      "2 is given range\n"
     ]
    }
   ],
   "source": [
    "# check if a number exists in a given range(inclusive)-lowerbound and upper bound consider\n",
    "\n",
    "n1=int(input(\"enter any number\"))\n",
    "lb=int(input(\"enter any first \"))\n",
    "ub=int(input(\"enter any number\"))\n",
    "if n1>=lb and n1<=ub:\n",
    "    print(n1,\"is given range\")\n",
    "else:\n",
    "    print(n1,\"is not in range\")\n"
   ]
  },
  {
   "cell_type": "code",
   "execution_count": null,
   "metadata": {},
   "outputs": [],
   "source": [
    "# calculate the number of digits in a number\n",
    "\n",
    "\n",
    "n1=123\n",
    "print(len(str(n1)))"
   ]
  },
  {
   "cell_type": "code",
   "execution_count": null,
   "metadata": {},
   "outputs": [],
   "source": []
  },
  {
   "cell_type": "code",
   "execution_count": 19,
   "metadata": {},
   "outputs": [
    {
     "name": "stdout",
     "output_type": "stream",
     "text": [
      "enter any number15\n",
      "15 is not multiple of 10\n"
     ]
    }
   ],
   "source": [
    "# calculate if a number is a multiple of 10\n",
    "\n",
    "n1=int(input(\"enter any number\"))\n",
    "if n1%10 == 0:\n",
    "    print(n1,\"is multiple of 10\")\n",
    "else:\n",
    "    print(n1,\"is not multiple of 10\")\n"
   ]
  },
  {
   "cell_type": "code",
   "execution_count": 9,
   "metadata": {},
   "outputs": [
    {
     "name": "stdout",
     "output_type": "stream",
     "text": [
      "5 is factor of 1000\n"
     ]
    }
   ],
   "source": [
    "# calculate if a number is a factor of 100\n",
    "\n",
    "n1=5\n",
    "if 1000%n1 == 0:\n",
    "    print(n1,\"is factor of 1000\")\n",
    "else:\n",
    "    print(n1,\"is not factor of  1000\")\n"
   ]
  },
  {
   "cell_type": "code",
   "execution_count": 6,
   "metadata": {},
   "outputs": [
    {
     "name": "stdout",
     "output_type": "stream",
     "text": [
      "1234 is not equal to  123\n"
     ]
    }
   ],
   "source": [
    "# check if given string is equal to a number\n",
    "\n",
    "s1=\"123\"\n",
    "n1=1234\n",
    "if( str(n1)==s1):\n",
    "    print(n1,\"is equal to\",s1)\n",
    "else:\n",
    "    print(n1,\"is not equal to \",s1)"
   ]
  },
  {
   "cell_type": "code",
   "execution_count": 4,
   "metadata": {},
   "outputs": [
    {
     "data": {
      "text/plain": [
       "11.090536506409418"
      ]
     },
     "execution_count": 4,
     "metadata": {},
     "output_type": "execute_result"
    }
   ],
   "source": [
    "# calculate the square root of a number without functions\n",
    "\n",
    "n1=123\n",
    "n1 ** 0.5\n"
   ]
  },
  {
   "cell_type": "code",
   "execution_count": 2,
   "metadata": {},
   "outputs": [
    {
     "name": "stdout",
     "output_type": "stream",
     "text": [
      "31622400000000000\n"
     ]
    }
   ],
   "source": [
    "# calculate the number of nano seconds in given year(using leap year logic)\n",
    "\n",
    "year=2019\n",
    "if year%400==0 or (year%4!=0 and year%100!=0):\n",
    "    print(366 * 24 * 60 * 60 * (10**9))\n",
    "else:\n",
    "    print(365 *24 * 60 * 60 * (10**9))\n",
    "    "
   ]
  },
  {
   "cell_type": "markdown",
   "metadata": {},
   "source": []
  },
  {
   "cell_type": "code",
   "execution_count": 1,
   "metadata": {},
   "outputs": [
    {
     "ename": "NameError",
     "evalue": "name 'fghjkjb' is not defined",
     "output_type": "error",
     "traceback": [
      "\u001b[1;31m---------------------------------------------------------------------------\u001b[0m",
      "\u001b[1;31mNameError\u001b[0m                                 Traceback (most recent call last)",
      "\u001b[1;32m<ipython-input-1-68b4b4adccbb>\u001b[0m in \u001b[0;36m<module>\u001b[1;34m\u001b[0m\n\u001b[1;32m----> 1\u001b[1;33m \u001b[0mfghjkjb\u001b[0m\u001b[1;33m\u001b[0m\u001b[1;33m\u001b[0m\u001b[0m\n\u001b[0m",
      "\u001b[1;31mNameError\u001b[0m: name 'fghjkjb' is not defined"
     ]
    }
   ],
   "source": [
    "fghjkjb"
   ]
  },
  {
   "cell_type": "code",
   "execution_count": null,
   "metadata": {},
   "outputs": [],
   "source": []
  },
  {
   "cell_type": "code",
   "execution_count": null,
   "metadata": {},
   "outputs": [],
   "source": []
  }
 ],
 "metadata": {
  "kernelspec": {
   "display_name": "Python 3",
   "language": "python",
   "name": "python3"
  },
  "language_info": {
   "codemirror_mode": {
    "name": "ipython",
    "version": 3
   },
   "file_extension": ".py",
   "mimetype": "text/x-python",
   "name": "python",
   "nbconvert_exporter": "python",
   "pygments_lexer": "ipython3",
   "version": "3.7.3"
  }
 },
 "nbformat": 4,
 "nbformat_minor": 2
}
