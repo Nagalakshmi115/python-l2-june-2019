{
 "cells": [
  {
   "cell_type": "code",
   "execution_count": 22,
   "metadata": {},
   "outputs": [
    {
     "name": "stdout",
     "output_type": "stream",
     "text": [
      "a p s s d c\n"
     ]
    },
    {
     "data": {
      "text/plain": [
       "'Apssdc'"
      ]
     },
     "execution_count": 22,
     "metadata": {},
     "output_type": "execute_result"
    }
   ],
   "source": [
    "#1. Print given characters as a word with starting character capital form and remaining lower\n",
    "#A P S S D C\n",
    "#Apssdc\n",
    "\n",
    "\n",
    "s=input()\n",
    "word=s.split()\n",
    "\"\".join(word).capitalize()\n",
    "\n",
    "        \n",
    "    "
   ]
  },
  {
   "cell_type": "code",
   "execution_count": 30,
   "metadata": {},
   "outputs": [
    {
     "name": "stdout",
     "output_type": "stream",
     "text": [
      "Q W E\n",
      "Qwe\n"
     ]
    }
   ],
   "source": [
    "s=input()\n",
    "a=s.replace(\" \",\"\")\n",
    "print(a.capitalize())"
   ]
  },
  {
   "cell_type": "code",
   "execution_count": 24,
   "metadata": {},
   "outputs": [
    {
     "name": "stdout",
     "output_type": "stream",
     "text": [
      "skill development\n",
      "development\n"
     ]
    }
   ],
   "source": [
    "#Print the maximum length word of given words\n",
    "#Hai hello world\n",
    "#hello\n",
    "#world\n",
    "\n",
    "words=input().split()\n",
    "lengths=[]\n",
    "for word in words:\n",
    "    lengths.append(len(word))\n",
    "max_length=max(lengths)\n",
    "for word in words:\n",
    "    if max_length==len(word):\n",
    "        print(word)\n",
    "        \n",
    "\n",
    "\n",
    "\n"
   ]
  },
  {
   "cell_type": "code",
   "execution_count": 26,
   "metadata": {},
   "outputs": [
    {
     "name": "stdout",
     "output_type": "stream",
     "text": [
      "hai hello world\n",
      "hello\n",
      "world\n"
     ]
    },
    {
     "data": {
      "text/plain": [
       "[None, None]"
      ]
     },
     "execution_count": 26,
     "metadata": {},
     "output_type": "execute_result"
    }
   ],
   "source": [
    "#Print the maximum length word of given words\n",
    "#Hai hello world\n",
    "#hello\n",
    "#world\n",
    "\n",
    "words=input().split()\n",
    "[print(word) for word in words if max(list(map(len,words)))==len(word)]\n"
   ]
  },
  {
   "cell_type": "code",
   "execution_count": 28,
   "metadata": {},
   "outputs": [
    {
     "name": "stdout",
     "output_type": "stream",
     "text": [
      "ravi ramu balu\n",
      "r\n",
      "ravi\n",
      "ramu\n"
     ]
    }
   ],
   "source": [
    "#Print all the words which starts with the given character, \n",
    "#If no words matches with the given condition you should print -1\n",
    "#ramu ravi balu\n",
    "#r\n",
    "#ramu\n",
    "#ravi\n",
    "\n",
    "words=input().split()\n",
    "c=input()\n",
    "match=0\n",
    "for word in words:\n",
    "    if word.startswith(c):\n",
    "        print(word)\n",
    "        match+=1\n",
    "if match==0:\n",
    "    print(-1)\n",
    "\n",
    "\n",
    "\n",
    "\n",
    "\n"
   ]
  },
  {
   "cell_type": "code",
   "execution_count": 1,
   "metadata": {},
   "outputs": [
    {
     "name": "stdout",
     "output_type": "stream",
     "text": [
      "www.way2sms.com\n",
      "12\n",
      "1\n",
      "2\n"
     ]
    }
   ],
   "source": [
    "#Print the number of digits, alphabets and any other \n",
    "#www.way2sms.com\n",
    "#DIGITS 1\n",
    "#ALPHABETS  12\n",
    "#OTHER 2\n",
    "\n",
    "s=input()\n",
    "alphabets=0\n",
    "digits=0\n",
    "other=0\n",
    "for i in s:\n",
    "    if(i.isalpha()):\n",
    "        alphabets+=1\n",
    "    elif(i.isdigit()):\n",
    "        digits+=1\n",
    "    else:\n",
    "        other+=1\n",
    "print(alphabets) \n",
    "print(digits)\n",
    "print(other)\n",
    "    \n",
    "    \n"
   ]
  },
  {
   "cell_type": "code",
   "execution_count": 14,
   "metadata": {},
   "outputs": [
    {
     "name": "stdout",
     "output_type": "stream",
     "text": [
      "HellowOrld\n",
      "hELLOWoRLd\n"
     ]
    }
   ],
   "source": [
    " #Swap the case of all characters in given string except last character\n",
    "#HellowOrld\n",
    "#hELLOWoRLd\n",
    "\n",
    "n=input()\n",
    "m=n[0:-1].swapcase()\n",
    "print(m+n[-1])\n",
    "\n",
    "\n"
   ]
  },
  {
   "cell_type": "code",
   "execution_count": 20,
   "metadata": {},
   "outputs": [
    {
     "name": "stdout",
     "output_type": "stream",
     "text": [
      "era ram\n",
      "  m\n",
      "  m  mm\n",
      "  m  mm  m  mmm\n",
      "  m  mm  m  mmm  m  mm  m  mmmm\n",
      "  m  mm  m  mmm  m  mm  m  mmmm  m  mm  m  mmm  m  mm  m  mmmmm\n",
      "  m  mm  m  mmm  m  mm  m  mmmm  m  mm  m  mmm  m  mm  m  mmmmm  m  mm  m  mmm  m  mm  m  mmmm  m  mm  m  mmm  m  mm  m  mmmmmm\n",
      "  m  mm  m  mmm  m  mm  m  mmmm  m  mm  m  mmm  m  mm  m  mmmmm  m  mm  m  mmm  m  mm  m  mmmm  m  mm  m  mmm  m  mm  m  mmmmmm  m  mm  m  mmm  m  mm  m  mmmm  m  mm  m  mmm  m  mm  m  mmmmm  m  mm  m  mmm  m  mm  m  mmmm  m  mm  m  mmm  m  mm  m  mmmmmmm\n"
     ]
    }
   ],
   "source": [
    "#Print all the words which words not ends with vowels(a,e,i,o,u)\n",
    "#ramu ravi balu raju mahesh\n",
    "#mahesh\n",
    "\n",
    "s=input()\n",
    "e_s=\" \"\n",
    "for i in s:\n",
    "    if(i!='aeiou'):\n",
    "        e_s+=e_s+word\n",
    "        print(e_s)\n",
    "        \n",
    "\n"
   ]
  },
  {
   "cell_type": "code",
   "execution_count": 29,
   "metadata": {},
   "outputs": [
    {
     "name": "stdout",
     "output_type": "stream",
     "text": [
      "wer World\n",
      "1\n"
     ]
    }
   ],
   "source": [
    "#Print the number of words in a given string (here word starting character contains UPPER letter)\n",
    "#HelloWorld\n",
    "#2\n",
    "\n",
    "s=input()\n",
    "c=0\n",
    "for i in s:\n",
    "    if(i.isupper()):\n",
    "        c+=1\n",
    "print(c)\n"
   ]
  },
  {
   "cell_type": "code",
   "execution_count": 3,
   "metadata": {
    "scrolled": true
   },
   "outputs": [
    {
     "name": "stdout",
     "output_type": "stream",
     "text": [
      "HelloWorld W\n"
     ]
    },
    {
     "data": {
      "text/plain": [
       "3"
      ]
     },
     "execution_count": 3,
     "metadata": {},
     "output_type": "execute_result"
    }
   ],
   "source": [
    "len(list(filter(str.isupper,input())))\n"
   ]
  },
  {
   "cell_type": "code",
   "execution_count": 9,
   "metadata": {},
   "outputs": [
    {
     "data": {
      "text/plain": [
       "[0, 1, 2, 3, 4, 5, 6, 7, 8, 9]"
      ]
     },
     "execution_count": 9,
     "metadata": {},
     "output_type": "execute_result"
    }
   ],
   "source": [
    "li=[i for i in range(10)]\n",
    "li"
   ]
  },
  {
   "cell_type": "code",
   "execution_count": 5,
   "metadata": {},
   "outputs": [
    {
     "data": {
      "text/plain": [
       "[0, 1, 2, 3, 4, 5, 6, 7, 8, 9]"
      ]
     },
     "execution_count": 5,
     "metadata": {},
     "output_type": "execute_result"
    }
   ],
   "source": [
    "# 0-9 values\n",
    "\n",
    "li=[]\n",
    "for i in range(10):\n",
    "    li.append(i)\n",
    "li"
   ]
  },
  {
   "cell_type": "code",
   "execution_count": 12,
   "metadata": {},
   "outputs": [
    {
     "data": {
      "text/plain": [
       "[0, 1, 8, 27, 64, 125, 216, 343, 512, 729]"
      ]
     },
     "execution_count": 12,
     "metadata": {},
     "output_type": "execute_result"
    }
   ],
   "source": [
    "# square values\n",
    "\n",
    "li=[i*i for i in range(10)]\n",
    "li"
   ]
  },
  {
   "cell_type": "code",
   "execution_count": 13,
   "metadata": {},
   "outputs": [
    {
     "data": {
      "text/plain": [
       "[0, 5, 10, 15, 20, 25, 30, 35, 40, 45]"
      ]
     },
     "execution_count": 13,
     "metadata": {},
     "output_type": "execute_result"
    }
   ],
   "source": [
    "# 5 multiples\n",
    "li=[5*i for i in range(10)]\n",
    "li"
   ]
  },
  {
   "cell_type": "code",
   "execution_count": 14,
   "metadata": {},
   "outputs": [
    {
     "data": {
      "text/plain": [
       "[0, 1, 8, 27, 64, 125, 216, 343, 512, 729]"
      ]
     },
     "execution_count": 14,
     "metadata": {},
     "output_type": "execute_result"
    }
   ],
   "source": [
    "#cubes\n",
    "li=[i**3 for i in range(10)]\n",
    "li"
   ]
  },
  {
   "cell_type": "code",
   "execution_count": 33,
   "metadata": {},
   "outputs": [
    {
     "name": "stdout",
     "output_type": "stream",
     "text": [
      "[0, 2, 4, 6, 8]\n"
     ]
    }
   ],
   "source": [
    "# even\n",
    "\n",
    "li=[i for i in range(0,10,2)]\n",
    "print(li)\n"
   ]
  },
  {
   "cell_type": "code",
   "execution_count": 28,
   "metadata": {},
   "outputs": [
    {
     "name": "stdout",
     "output_type": "stream",
     "text": [
      "ramu akash\n",
      "akash\n"
     ]
    }
   ],
   "source": [
    "# Print all the words which word contains duplicate characters\n",
    "#ramu akash balu\n",
    "#akash\n",
    "\n",
    "names=input().split()\n",
    "for name in names:\n",
    "    for ch in name:\n",
    "        if name.count(ch)>1:\n",
    "            print(name)\n",
    "            break\n"
   ]
  },
  {
   "cell_type": "code",
   "execution_count": 40,
   "metadata": {},
   "outputs": [
    {
     "name": "stdout",
     "output_type": "stream",
     "text": [
      "[0, 1, 2, 3, 4, 5, 6, 7, 8, 9]\n"
     ]
    }
   ],
   "source": [
    "# odd\n",
    "\n",
    "li=[i for i in range(10)]\n",
    "print(li)\n"
   ]
  },
  {
   "cell_type": "code",
   "execution_count": 62,
   "metadata": {},
   "outputs": [
    {
     "ename": "SyntaxError",
     "evalue": "invalid syntax (<ipython-input-62-7382c47f2933>, line 3)",
     "output_type": "error",
     "traceback": [
      "\u001b[1;36m  File \u001b[1;32m\"<ipython-input-62-7382c47f2933>\"\u001b[1;36m, line \u001b[1;32m3\u001b[0m\n\u001b[1;33m    li=[n i n*i sep=\",\" i for i in range(10)]\u001b[0m\n\u001b[1;37m          ^\u001b[0m\n\u001b[1;31mSyntaxError\u001b[0m\u001b[1;31m:\u001b[0m invalid syntax\n"
     ]
    }
   ],
   "source": [
    "# 5 table \n",
    "n=int(input())\n",
    "li=[n i n*i sep=\",\" i for i in range(10)]\n",
    "li"
   ]
  },
  {
   "cell_type": "code",
   "execution_count": 49,
   "metadata": {},
   "outputs": [
    {
     "name": "stdout",
     "output_type": "stream",
     "text": [
      "wer\n"
     ]
    },
    {
     "data": {
      "text/plain": [
       "['w', 'e', 'r']"
      ]
     },
     "execution_count": 49,
     "metadata": {},
     "output_type": "execute_result"
    }
   ],
   "source": [
    "s=input()\n",
    "li=[ch.lower() for ch in s]\n",
    "li"
   ]
  },
  {
   "cell_type": "code",
   "execution_count": null,
   "metadata": {},
   "outputs": [],
   "source": []
  }
 ],
 "metadata": {
  "kernelspec": {
   "display_name": "Python 3",
   "language": "python",
   "name": "python3"
  },
  "language_info": {
   "codemirror_mode": {
    "name": "ipython",
    "version": 3
   },
   "file_extension": ".py",
   "mimetype": "text/x-python",
   "name": "python",
   "nbconvert_exporter": "python",
   "pygments_lexer": "ipython3",
   "version": "3.7.3"
  }
 },
 "nbformat": 4,
 "nbformat_minor": 2
}
