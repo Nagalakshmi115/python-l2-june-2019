{
 "cells": [
  {
   "cell_type": "markdown",
   "metadata": {},
   "source": [
    "## Date : 20 JUNE 2019\n",
    "##  Day Objectives\n",
    "- Regular Expressions\n",
    "    - Constructing regular expressions for various use cases\n",
    "    - Regular expressions module and related in python\n",
    "    - Improving the contacts application with name and phone number \n",
    "- File Handling\n",
    "    - Text Files\n",
    "    - Upgrading the contacts application to store contact information in a text  file\n"
   ]
  },
  {
   "cell_type": "markdown",
   "metadata": {},
   "source": [
    "##  Regular Expressions\n",
    "\n",
    "- Pattern Matching\n",
    "- Symbolic Notation of a pattern\n",
    "    - Pattern : Format which repeats(Particular way or particular format)\n",
    "    - Pattern(RE) represents The set of all values  matches that pattern\n",
    "- [0-9] -> Any digit\n",
    "- [a-z] -> Any lower case alphabet\n",
    "- [2468]-> All single digit multiples of 2\n",
    "- [6428] ->order is not important : All single digit multiples of 2\n",
    "- [2864]  ->order is not important :All single digit multiples of 2 \n",
    "\n",
    "- ^[0-9]{1}$ -> highlights single digits only \n",
    "\n",
    "- ^[0-9]{3} -> highlights only first 3 characters \n",
    "\n",
    "- [0-9]{3}$ ->highlights only last 3 characters\n",
    "\n",
    "- [0-9]*0$ ->all multiples of 10\n",
    "\n",
    "- ^[1-9][0-9]*0$ -> All multiples of 10\n",
    "\n",
    "- ^([1-9][0-9]*[05])$|^([5])$  ->All multiples of 5\n",
    "\n",
    "- ^[1-9][0-9]{9}$       ->All 10 digit number\n",
    "\n",
    "- ^[6-9][0-9]{9}$|^[0][6-9][0-9]{9}$|^[+][6-9][0-9]{9}$  ->Validating phone number(india)(start with 9879 followed by 9)\n",
    "\n",
    "- ^[0-9a-z][0-9a-z_.]{4,13}[0-9a-z][@][0-9a-z]{3,18}[.][a-z]{2,4}$  -> Email Validation(username@domain.extension)\n",
    "        \n",
    "        \n",
    "        - username\n",
    "                   - length of username:[6,15]\n",
    "                   - No special characters other than _.\n",
    "                   -  should not begin and with -.\n",
    "                   - character set:all digits and alphabet\n",
    "        - domain\n",
    "                    - length of domain:[3,18]\n",
    "                    - no special characters\n",
    "                    - character set:all digits and alphabet\n",
    "        - extension\n",
    "                   - length of extension:[2,4]\n",
    "                   - no speciaal characters\n",
    "                   - character set:only lowercase alphaabet\n",
    "\n",
    "- [w][o][r][d] or word* or (word) ->searching for a word5 that starts with'a'\n",
    "\n",
    "\n",
    "- Any string of length 5 that starts with'a' and ends with 'z'\n",
    "\n",
    "- ^[a]...[z]$ \n",
    "\n",
    "- ^[a].*[z]$  -> any string of any length starts with  \"a\" and ends with \"z\"\n",
    "    "
   ]
  },
  {
   "cell_type": "code",
   "execution_count": null,
   "metadata": {},
   "outputs": [],
   "source": []
  },
  {
   "cell_type": "code",
   "execution_count": 18,
   "metadata": {
    "scrolled": true
   },
   "outputs": [
    {
     "data": {
      "text/plain": [
       "False"
      ]
     },
     "execution_count": 18,
     "metadata": {},
     "output_type": "execute_result"
    }
   ],
   "source": [
    "# Function to validate a phone number\n",
    "\n",
    "import re\n",
    "def phoneNumberValidator(number):\n",
    "    pattern='^[6-9][0-9]{9}$|^[0][6-9][0-9]{9}$|^[+][6-9][0-9]{9}$'\n",
    "    if re.match(pattern,str(number)):\n",
    "        return True\n",
    "    return False\n",
    "phoneNumberValidator(9908699451)\n",
    "def emailValidator(email):\n",
    "    pattern='^[0-9a-z][0-9a-z_.]{4,13}[0-9a-z][@][0-9a-z]{3,18}[.][a-z]{2,4}$'\n",
    "    if re.match(pattern,email):\n",
    "        return True\n",
    "    return False\n",
    "emailValidator(\"re_12345@gmail.com\")"
   ]
  },
  {
   "cell_type": "code",
   "execution_count": 14,
   "metadata": {},
   "outputs": [
    {
     "name": "stdout",
     "output_type": "stream",
     "text": [
      "name3 is added.\n"
     ]
    }
   ],
   "source": [
    "contacts={\"g1\":[9908699451,'g1name@domain.ext'],\"g2\":[98765432213,'g2name@domin.ext']}\n",
    "def addContact(name,phone,email):\n",
    "    # verify that the contact doesnot already exist\n",
    "    if name not in contacts :\n",
    "        print(\"%s is added.\"%name)\n",
    "    else:\n",
    "        if not phoneNumberValidator(phone):\n",
    "            print(\"Invalid phonenumber\")\n",
    "            return\n",
    "        if not emailValidator(email):\n",
    "            print(\"invalid email address\")\n",
    "            return\n",
    "        newcontact=[]\n",
    "        newcontact.append(phone)\n",
    "        newcontact.append(email)\n",
    "        contacts[name]=newcontact\n",
    "    return\n",
    "addContact(\"name3\",9888699451,\"hdi23d@gmail.com\")\n",
    "    "
   ]
  },
  {
   "cell_type": "code",
   "execution_count": 15,
   "metadata": {},
   "outputs": [
    {
     "name": "stdout",
     "output_type": "stream",
     "text": [
      "g1\n",
      "phone: 9908699451\n",
      "Email: g1name@domain.ext\n"
     ]
    }
   ],
   "source": [
    "# Search contact\n",
    "\n",
    "def searchContact(name):\n",
    "    if name in contacts:\n",
    "        print(name)\n",
    "        print(\"phone:\",contacts[name][0])\n",
    "        print(\"Email:\",contacts[name][1])\n",
    "    else:\n",
    "        print(\"%s doesnot exist\"%name)\n",
    "    return\n",
    "searchContact(\"g1\")"
   ]
  },
  {
   "cell_type": "code",
   "execution_count": 16,
   "metadata": {},
   "outputs": [
    {
     "name": "stdout",
     "output_type": "stream",
     "text": [
      "1 added successfully\n"
     ]
    },
    {
     "data": {
      "text/plain": [
       "dict_items([('g1', [9908699451, 'g1name@domain.ext']), ('g2', [98765432213, 'g2name@domin.ext']), ('name4', [9561234567, 'name4@gmail.com'])])"
      ]
     },
     "execution_count": 16,
     "metadata": {},
     "output_type": "execute_result"
    }
   ],
   "source": [
    "# New contacts is given as a dictionary\n",
    "# Merge new contacts with existing contacts\n",
    "\n",
    "def importContacts(newContacts):\n",
    "    contacts.update(newContacts)\n",
    "    print(len(newContacts.keys()),\"added successfully\")\n",
    "    return\n",
    "\n",
    "newContacts={\"name4\":[9561234567,\"name4@gmail.com\"]}\n",
    "importContacts(newContacts)\n",
    "contacts.items()"
   ]
  },
  {
   "cell_type": "code",
   "execution_count": 19,
   "metadata": {},
   "outputs": [
    {
     "name": "stdout",
     "output_type": "stream",
     "text": [
      "g1 \n",
      " Phone : 9908699451 \n",
      " Email : g1name@domain.ext\n"
     ]
    }
   ],
   "source": [
    "# fUNCTION TO LIST ALL CONTACTS\n",
    "\n",
    "def listAllContacts():\n",
    "    for contact,info in contacts.items():\n",
    "        print(contact,\"\\n\",\"Phone :\",info[0],\"\\n\",\"Email :\",info[1])\n",
    "        return\n",
    "listAllContacts()\n",
    "        "
   ]
  },
  {
   "cell_type": "code",
   "execution_count": 20,
   "metadata": {},
   "outputs": [
    {
     "ename": "SyntaxError",
     "evalue": "invalid syntax (<ipython-input-20-10b32b6a9c6e>, line 2)",
     "output_type": "error",
     "traceback": [
      "\u001b[1;36m  File \u001b[1;32m\"<ipython-input-20-10b32b6a9c6e>\"\u001b[1;36m, line \u001b[1;32m2\u001b[0m\n\u001b[1;33m    contacts={\"n1\":,9902344449,\"n1qwe@gmail.com\"}\u001b[0m\n\u001b[1;37m                   ^\u001b[0m\n\u001b[1;31mSyntaxError\u001b[0m\u001b[1;31m:\u001b[0m invalid syntax\n"
     ]
    }
   ],
   "source": [
    "# Function to edit contact information\n",
    "contacts={\"n1\":,[9902344449,\"n1qwe@gmail.com\"]}\n",
    "def editContact(name,phone,email):\n",
    "    # verify that the contact doesnot already exist\n",
    "    if name not in contacts:\n",
    "        contacts[name]=phone\n",
    "        print(\"contact %s added\" %name)\n",
    "    else:\n",
    "        print(\"contact %s already exists\" %name)\n",
    "    return\n",
    "\n",
    "editContact{\"n1\",9908699543,\"n1qqwe@gmail.com\"}"
   ]
  },
  {
   "cell_type": "code",
   "execution_count": null,
   "metadata": {},
   "outputs": [],
   "source": []
  },
  {
   "cell_type": "markdown",
   "metadata": {},
   "source": [
    "## File Handling in Python\n",
    "\n",
    "File - Document containing information residing on the permanent storage\n",
    "Types - Text,PDF,CSV,Image files...etc\n",
    "\n",
    "File I/O - Channelling I/O data to files\n",
    "Default I/O channels - Keyboard/screen\n",
    "\n",
    "change I/O channel to files for Reading and writing \n",
    "\n",
    "Read a file - Input from file\n",
    "Write to a file - Output to a file\n",
    "\n",
    "Read/write a file - open(filename,mode)\n",
    "\n"
   ]
  },
  {
   "cell_type": "code",
   "execution_count": 24,
   "metadata": {},
   "outputs": [
    {
     "name": "stdout",
     "output_type": "stream",
     "text": [
      "Line1\n",
      "Line2\n",
      "Line3\n"
     ]
    }
   ],
   "source": [
    "# Function to read a file\n",
    "\n",
    "def readFile(filename):\n",
    "    f=open(filename,'r')\n",
    "    filedata=f.read()\n",
    "    f.close()\n",
    "    return filedata\n",
    "filename='Data files/data.txt'\n",
    "for line in readFile(filename).split('\\n'):\n",
    "    print(line)"
   ]
  },
  {
   "cell_type": "code",
   "execution_count": 28,
   "metadata": {},
   "outputs": [
    {
     "name": "stdout",
     "output_type": "stream",
     "text": [
      "Line1\n",
      "Line2\n",
      "Line3"
     ]
    }
   ],
   "source": [
    "def readFile(filename):\n",
    "    f=open(filename,'r')\n",
    "    filedata=f.read()\n",
    "    f.close()\n",
    "    return filedata\n",
    "filename='Data files/data.txt'\n",
    "filedata=readFile(filename)\n",
    "def printFileDataLines(filename):\n",
    "    with open(filename,'r') as f:\n",
    "        for line in f:\n",
    "            print(line,end='')\n",
    "        return\n",
    "\n",
    "printFileDataLines(filename)\n",
    "\n",
    "   "
   ]
  },
  {
   "cell_type": "code",
   "execution_count": 29,
   "metadata": {},
   "outputs": [],
   "source": [
    "# Function to write data into a file\n",
    "\n",
    "def writeIntoFile(filename,filedata):\n",
    "    with open(filename,'w') as f:\n",
    "        f.write(filedata)\n",
    "    return\n",
    "filename='Data files/data.txt'\n",
    "writeIntoFile(filename,\"new data\")\n"
   ]
  },
  {
   "cell_type": "code",
   "execution_count": 39,
   "metadata": {},
   "outputs": [],
   "source": [
    "# Function to append data to a file\n",
    "\n",
    "def appendDatatoFile(filename,filedata):\n",
    "    with open(filename,'a') as f:\n",
    "        for line in filedata:\n",
    "            f.write('\\n'+line)\n",
    "    return\n",
    "filedata=[\"lines4\",\"lines5\"]\n",
    "appendDatatoFile(filename,filedata)\n",
    "    "
   ]
  },
  {
   "cell_type": "code",
   "execution_count": null,
   "metadata": {},
   "outputs": [],
   "source": []
  },
  {
   "cell_type": "code",
   "execution_count": null,
   "metadata": {},
   "outputs": [],
   "source": []
  },
  {
   "cell_type": "code",
   "execution_count": null,
   "metadata": {},
   "outputs": [],
   "source": []
  },
  {
   "cell_type": "code",
   "execution_count": null,
   "metadata": {},
   "outputs": [],
   "source": []
  }
 ],
 "metadata": {
  "kernelspec": {
   "display_name": "Python 3",
   "language": "python",
   "name": "python3"
  },
  "language_info": {
   "codemirror_mode": {
    "name": "ipython",
    "version": 3
   },
   "file_extension": ".py",
   "mimetype": "text/x-python",
   "name": "python",
   "nbconvert_exporter": "python",
   "pygments_lexer": "ipython3",
   "version": "3.7.3"
  }
 },
 "nbformat": 4,
 "nbformat_minor": 2
}
