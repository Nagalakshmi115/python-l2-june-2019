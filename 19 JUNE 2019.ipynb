{
 "cells": [
  {
   "cell_type": "code",
   "execution_count": 1,
   "metadata": {},
   "outputs": [
    {
     "name": "stdout",
     "output_type": "stream",
     "text": [
      "ART\n",
      "TRA\n",
      "Anagrams\n"
     ]
    }
   ],
   "source": [
    "# Write your code here\n",
    "def anagrams(a,b):\n",
    "    if(sorted(b)==sorted(a)):\n",
    "        print(\"Anagrams\")\n",
    "    else:\n",
    "        print(\"not Anagrams\")\n",
    "        \n",
    "a=input()\n",
    "b=input()\n",
    "anagrams(a,b)"
   ]
  },
  {
   "cell_type": "code",
   "execution_count": null,
   "metadata": {},
   "outputs": [],
   "source": [
    "Given two strings, a and b , that may or may not be of the same length, \n",
    "determine the minimum number of character deletions required to make a and b anagrams. \n",
    "Any characters can be deleted from either of the strings.\n"
   ]
  },
  {
   "cell_type": "code",
   "execution_count": null,
   "metadata": {},
   "outputs": [],
   "source": [
    "#Find product\n",
    "\n",
    "n=int(input())\n",
    "a=input().split()\n",
    "print(a)\n",
    "l=[]\n",
    "for i in a:\n",
    "    l.append(int(i))\n",
    "print(l)\n",
    "def product(n):\n",
    "    b=1\n",
    "    for i in l:\n",
    "        b=(b*i)%(10**9+7)\n",
    "    print(b)\n",
    "product(n)    "
   ]
  }
 ],
 "metadata": {
  "kernelspec": {
   "display_name": "Python 3",
   "language": "python",
   "name": "python3"
  },
  "language_info": {
   "codemirror_mode": {
    "name": "ipython",
    "version": 3
   },
   "file_extension": ".py",
   "mimetype": "text/x-python",
   "name": "python",
   "nbconvert_exporter": "python",
   "pygments_lexer": "ipython3",
   "version": "3.7.3"
  }
 },
 "nbformat": 4,
 "nbformat_minor": 2
}
