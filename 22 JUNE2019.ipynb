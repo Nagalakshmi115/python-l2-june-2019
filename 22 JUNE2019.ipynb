{
 "cells": [
  {
   "cell_type": "code",
   "execution_count": 13,
   "metadata": {},
   "outputs": [],
   "source": [
    "fh=open('book.txt','w')"
   ]
  },
  {
   "cell_type": "code",
   "execution_count": 14,
   "metadata": {},
   "outputs": [
    {
     "data": {
      "text/plain": [
       "2"
      ]
     },
     "execution_count": 14,
     "metadata": {},
     "output_type": "execute_result"
    }
   ],
   "source": [
    "data=\"hi\"\n",
    "fh.write(data)"
   ]
  },
  {
   "cell_type": "code",
   "execution_count": 15,
   "metadata": {},
   "outputs": [],
   "source": [
    "fh.close()"
   ]
  },
  {
   "cell_type": "code",
   "execution_count": 16,
   "metadata": {},
   "outputs": [
    {
     "name": "stdout",
     "output_type": "stream",
     "text": [
      "hi\n"
     ]
    }
   ],
   "source": [
    "fh=open('book.txt','r')\n",
    "f=fh.read()\n",
    "print(f)\n",
    "fh.close()"
   ]
  },
  {
   "cell_type": "markdown",
   "metadata": {},
   "source": [
    "### Date : 22 June 2019\n",
    "\n",
    "### Day Objectives\n",
    "\n",
    "- File Handling\n",
    "    - Basic File Data Processing\n",
    "        - Accessing and Modifying File Data\n",
    "    - Character Count\n",
    "    - Line Count\n",
    "    - File Size\n",
    "    - Word Count\n",
    "    - Unique Word Count\n",
    "    \n"
   ]
  },
  {
   "cell_type": "code",
   "execution_count": 27,
   "metadata": {},
   "outputs": [
    {
     "data": {
      "text/plain": [
       "''"
      ]
     },
     "execution_count": 27,
     "metadata": {},
     "output_type": "execute_result"
    }
   ],
   "source": [
    "# Read a file -file should exist(Read Mode)\n",
    "# write to a file -existing(append) or new file(Write Mode)\n",
    "\n",
    "def readFile(filepath):\n",
    "    with open(filepath,'r') as f:\n",
    "        filedata=f.read()\n",
    "\n",
    "    return filedata\n",
    "\n",
    "filepath='Data files/data.txt'\n",
    "readFile(filepath)\n"
   ]
  },
  {
   "cell_type": "code",
   "execution_count": 35,
   "metadata": {},
   "outputs": [
    {
     "data": {
      "text/plain": [
       "12"
      ]
     },
     "execution_count": 35,
     "metadata": {},
     "output_type": "execute_result"
    }
   ],
   "source": [
    "# Find character count\n",
    "\n",
    "def characterCount(filepath):\n",
    "    count=0\n",
    "    with open(filepath,'r') as f:\n",
    "        filedata=f.read()\n",
    "        for i in filedata:\n",
    "            count+=1\n",
    "    return count\n",
    "\n",
    "    \n",
    "filepath='Data files/data.txt'    \n",
    "characterCount(filepath)\n"
   ]
  },
  {
   "cell_type": "code",
   "execution_count": 62,
   "metadata": {},
   "outputs": [
    {
     "data": {
      "text/plain": [
       "4"
      ]
     },
     "execution_count": 62,
     "metadata": {},
     "output_type": "execute_result"
    }
   ],
   "source": [
    "#Find line count\n",
    "\n",
    "def lineCount(filepath):\n",
    "    count=0\n",
    "    with open(filepath,'r') as f:\n",
    "        filedata=f.readlines()\n",
    "        for i in filedata:\n",
    "                count+=1\n",
    "        return count\n",
    "            \n",
    "    \n",
    "    \n",
    "filedata='Data files/data.txt'\n",
    "lineCount(filepath)\n",
    "\n",
    "                \n"
   ]
  },
  {
   "cell_type": "code",
   "execution_count": 4,
   "metadata": {},
   "outputs": [
    {
     "data": {
      "text/plain": [
       "4"
      ]
     },
     "execution_count": 4,
     "metadata": {},
     "output_type": "execute_result"
    }
   ],
   "source": [
    "# Find word count\n",
    "\n",
    "def wordCount(filepath):\n",
    "    count = 0\n",
    "    with open(filepath,'r') as f:\n",
    "        filedata=f.read()\n",
    "        for i in filedata:\n",
    "            if(i==\" \"):\n",
    "                count+=1\n",
    "    return count+1\n",
    "\n",
    "filepath='Data files/book.txt'\n",
    "wordCount(filepath)\n"
   ]
  },
  {
   "cell_type": "code",
   "execution_count": 11,
   "metadata": {},
   "outputs": [
    {
     "name": "stdout",
     "output_type": "stream",
     "text": [
      "8\n"
     ]
    }
   ],
   "source": [
    "# Find word count\n",
    "\n",
    "def wordCount(filepath):\n",
    "    count = 0\n",
    "    with open(filepath,'r') as f:\n",
    "        filedata=f.read().split()\n",
    "        print(len(filedata))\n",
    "\n",
    "filepath='Data files/book.txt'\n",
    "wordCount(filepath)\n"
   ]
  },
  {
   "cell_type": "code",
   "execution_count": 68,
   "metadata": {},
   "outputs": [
    {
     "data": {
      "text/plain": [
       "29"
      ]
     },
     "execution_count": 68,
     "metadata": {},
     "output_type": "execute_result"
    }
   ],
   "source": [
    "# Find file size\n",
    "\n",
    "import os\n",
    "def fileSize(filepath):\n",
    "    with open(filepath,'r') as f:\n",
    "        filedata=os.stat(filepath)\n",
    "    return filedata.st_size\n",
    "\n",
    "filepath='Data files/data.txt'\n",
    "fileSize(filepath)"
   ]
  },
  {
   "cell_type": "code",
   "execution_count": 46,
   "metadata": {},
   "outputs": [
    {
     "data": {
      "text/plain": [
       "26"
      ]
     },
     "execution_count": 46,
     "metadata": {},
     "output_type": "execute_result"
    }
   ],
   "source": [
    "import os\n",
    "def fileSize(filepath):\n",
    "    with open(filepath,'r') as f:\n",
    "        filedata=os.path.getsize(filepath)\n",
    "    return filedata\n",
    "\n",
    "filepath='Data files/data.txt'\n",
    "fileSize(filepath)"
   ]
  },
  {
   "cell_type": "code",
   "execution_count": 57,
   "metadata": {},
   "outputs": [
    {
     "name": "stdout",
     "output_type": "stream",
     "text": [
      "['knejkvj', 'hi', 'vkcfejgjk', 'vjv', 'nvhuig', 'mdvhog', 'vifehugu3rng', 'jiovhgri3', 'vfekhnv', 'hi']\n",
      "['knejkvj', 'hi', 'vkcfejgjk', 'vjv', 'nvhuig', 'mdvhog', 'vifehugu3rng', 'jiovhgri3', 'vfekhnv']\n",
      "9\n"
     ]
    }
   ],
   "source": [
    "# unique word count\n",
    "\n",
    "def uniqueWordCount(filepath):\n",
    "    w=[]\n",
    "    count=0\n",
    "    with open(filepath,'r') as f:\n",
    "        filedata=f.read().split()\n",
    "        print(filedata)\n",
    "        for i in filedata:\n",
    "            if i not in w:\n",
    "                w.append(i)\n",
    "                count+=1\n",
    "        print(w)\n",
    "        print(count)\n",
    "        \n",
    "filepath='Data files/book.txt'\n",
    "uniqueWordCount(filepath)"
   ]
  },
  {
   "cell_type": "code",
   "execution_count": null,
   "metadata": {},
   "outputs": [],
   "source": []
  }
 ],
 "metadata": {
  "kernelspec": {
   "display_name": "Python 3",
   "language": "python",
   "name": "python3"
  },
  "language_info": {
   "codemirror_mode": {
    "name": "ipython",
    "version": 3
   },
   "file_extension": ".py",
   "mimetype": "text/x-python",
   "name": "python",
   "nbconvert_exporter": "python",
   "pygments_lexer": "ipython3",
   "version": "3.7.3"
  }
 },
 "nbformat": 4,
 "nbformat_minor": 2
}
