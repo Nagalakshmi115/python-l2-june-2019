{
 "cells": [
  {
   "cell_type": "markdown",
   "metadata": {},
   "source": [
    "## Tuples\n",
    "\n",
    "t1=()\n",
    "li=[]\n",
    "\n",
    "\n",
    "Difference between Lists and Tuples:\n",
    "\n",
    "- lists are mutable can be changed/modified\n",
    "    - used to Access,Modify,Add,Delete..etc\n",
    "    \n",
    "- Tuples are immutable-cannot be changed once initialised\n",
    "    - used to Access Data only\n",
    "    - All Slicing Work"
   ]
  },
  {
   "cell_type": "code",
   "execution_count": 12,
   "metadata": {},
   "outputs": [
    {
     "data": {
      "text/plain": [
       "(2, 5)"
      ]
     },
     "execution_count": 12,
     "metadata": {},
     "output_type": "execute_result"
    }
   ],
   "source": [
    "t1=(2,4,2,4,5,7)\n",
    "t1[::-1]    # reverse tuple\n",
    "t1[4]       # 4th element\n",
    "t1[2::-1]   # middle to reverse of start\n",
    "t1[len(t1)//2:]  #middle to last element\n",
    "t1[2::2]          # access the middle to 2 2 elemts"
   ]
  },
  {
   "cell_type": "markdown",
   "metadata": {},
   "source": [
    "## Dictionaries\n",
    "\n",
    "- It Works on the concept of set\n",
    "\n",
    "- Main Advantage is Unique Data\n",
    "\n",
    "- keys and values\n",
    "\n",
    "- Key is the unique identifier for a value\n",
    "\n",
    "- Value is data that can be accessed with a key"
   ]
  },
  {
   "cell_type": "code",
   "execution_count": 23,
   "metadata": {},
   "outputs": [
    {
     "data": {
      "text/plain": [
       "True"
      ]
     },
     "execution_count": 23,
     "metadata": {},
     "output_type": "execute_result"
    }
   ],
   "source": [
    "d1={\"k1\":\"value1\",\"k2\":\"value2\"}\n",
    "\n",
    "d1[\"k2\"]   # Accessing the values with key \"k2\"\n",
    "d1.keys()  # Returns all keys\n",
    "d1.values() # returns all values\n",
    "d1.items()  # return list of tuples of keys and values\n",
    "d1[\"k3\"]=\"value3\"    # Adding an element\n",
    "d1\n",
    "\n",
    "d1[\"k3\"]=\"value4\"  # updating an element in dictionary\n",
    "d1.pop(\"k2\")       # remove an element\n",
    "d1\n",
    "\"k1\" in d1"
   ]
  },
  {
   "cell_type": "markdown",
   "metadata": {},
   "source": [
    "## Contact Application\n",
    "\n",
    "- Add contact\n",
    "- Search for contact\n",
    "- List all contact\n",
    "    -name1:phone1\n",
    "    -name2:phone2\n",
    "- Modify contact\n",
    "- Remove contact\n",
    "- Import contacts"
   ]
  },
  {
   "cell_type": "code",
   "execution_count": 25,
   "metadata": {},
   "outputs": [
    {
     "name": "stdout",
     "output_type": "stream",
     "text": [
      "contact g1 added\n"
     ]
    }
   ],
   "source": [
    "# Add contact\n",
    "\n",
    "contacts={}\n",
    "def addContact(name,phone):\n",
    "    # verify that the contact doesnot already exist\n",
    "    if name not in contacts:\n",
    "        contacts[name]=phone\n",
    "        print(\"contact %s added\" %name)\n",
    "    else:\n",
    "        print(\"contact %s already exista\" %name)\n",
    "    return\n",
    "\n",
    "addContact(\"g1\",\"123456\")\n",
    "    "
   ]
  },
  {
   "cell_type": "code",
   "execution_count": 28,
   "metadata": {},
   "outputs": [
    {
     "name": "stdout",
     "output_type": "stream",
     "text": [
      "g1 : 123456\n"
     ]
    }
   ],
   "source": [
    "# Search contact\n",
    "\n",
    "def searchContact(name):\n",
    "    if name in contacts:\n",
    "        print(name,\":\",contacts[name])\n",
    "    else:\n",
    "        print(\"%s doesnot exist\"%name)\n",
    "searchContact(\"g1\")"
   ]
  },
  {
   "cell_type": "code",
   "execution_count": 34,
   "metadata": {},
   "outputs": [
    {
     "name": "stdout",
     "output_type": "stream",
     "text": [
      "2 added successfully\n"
     ]
    }
   ],
   "source": [
    "# New contacts is given as a dictionary\n",
    "# Merge new contacts with existing contacts\n",
    "\n",
    "def importContacts(newContacts):\n",
    "    contacts.update(newContacts)\n",
    "    print(len(newContacts.keys()),\"added successfully\")\n",
    "    return\n",
    "\n",
    "newContacts={\"name2\":\"1234567\",\"name3\":\"3456789\"}\n",
    "importContacts(newContacts)"
   ]
  },
  {
   "cell_type": "code",
   "execution_count": 43,
   "metadata": {},
   "outputs": [
    {
     "name": "stdout",
     "output_type": "stream",
     "text": [
      "{'n2': '56789', 'n3': '456789'}\n"
     ]
    }
   ],
   "source": [
    "# remove one contact in dictionary\n",
    "\n",
    "def removeContact(contacts):\n",
    "    del contacts[\"n1\"]\n",
    "    print(contacts)\n",
    "    \n",
    "contacts={\"n1\":\"12346\",\"n2\":\"56789\",\"n3\":\"456789\"}\n",
    "removeContact(contacts)\n",
    "    "
   ]
  },
  {
   "cell_type": "code",
   "execution_count": 46,
   "metadata": {},
   "outputs": [
    {
     "name": "stdout",
     "output_type": "stream",
     "text": [
      "{}\n"
     ]
    }
   ],
   "source": [
    "# Remove all contacts in dictionary\n",
    "\n",
    "def removeContact(contacts):\n",
    "    contacts.clear()\n",
    "    print(contacts)\n",
    "    \n",
    "contacts={\"n1\":\"12346\",\"n2\":\"56789\",\"n3\":\"456789\"}\n",
    "removeContact(contacts)\n",
    "    "
   ]
  },
  {
   "cell_type": "markdown",
   "metadata": {},
   "source": [
    "### Packages and Modules\n",
    "\n",
    "**Package** -> Collection of Modules(python File.py) and subpackages\n",
    "\n",
    "**Subpackage** -> \n",
    "\n",
    "**Module** -> A Single python file containing functions\n",
    "\n",
    "Package->Subpackages->Modules->Functions"
   ]
  },
  {
   "cell_type": "code",
   "execution_count": 51,
   "metadata": {},
   "outputs": [
    {
     "data": {
      "text/plain": [
       "3.141592653589793"
      ]
     },
     "execution_count": 51,
     "metadata": {},
     "output_type": "execute_result"
    }
   ],
   "source": [
    "import math\n",
    "\n",
    "math.ceil(123.456)\n",
    "math.pi"
   ]
  },
  {
   "cell_type": "code",
   "execution_count": 54,
   "metadata": {},
   "outputs": [
    {
     "data": {
      "text/plain": [
       "3.141592653589793"
      ]
     },
     "execution_count": 54,
     "metadata": {},
     "output_type": "execute_result"
    }
   ],
   "source": [
    "from math import floor,pi\n",
    "floor(123.23)\n",
    "pi"
   ]
  },
  {
   "cell_type": "code",
   "execution_count": 53,
   "metadata": {},
   "outputs": [
    {
     "data": {
      "text/plain": [
       "23"
      ]
     },
     "execution_count": 53,
     "metadata": {},
     "output_type": "execute_result"
    }
   ],
   "source": [
    "floor(23.89)"
   ]
  },
  {
   "cell_type": "code",
   "execution_count": 55,
   "metadata": {},
   "outputs": [
    {
     "data": {
      "text/plain": [
       "12"
      ]
     },
     "execution_count": 55,
     "metadata": {},
     "output_type": "execute_result"
    }
   ],
   "source": [
    "from math import floor as f1\n",
    "f1(12.4)"
   ]
  },
  {
   "cell_type": "code",
   "execution_count": 57,
   "metadata": {},
   "outputs": [
    {
     "name": "stdout",
     "output_type": "stream",
     "text": [
      "46 45 50 57 69 13 56 91 62 50 "
     ]
    }
   ],
   "source": [
    "# Function to generate N random numbers\n",
    "\n",
    "import random\n",
    "def generateNRandomNumbers(n,lb,ub):\n",
    "    for i in range(0,n):\n",
    "        print(random.randint(lb,ub),end=\" \")\n",
    "\n",
    "generateNRandomNumbers(10,0,100)"
   ]
  },
  {
   "cell_type": "code",
   "execution_count": 13,
   "metadata": {
    "scrolled": true
   },
   "outputs": [
    {
     "data": {
      "text/plain": [
       "False"
      ]
     },
     "execution_count": 13,
     "metadata": {},
     "output_type": "execute_result"
    }
   ],
   "source": [
    "from Packages import numerical\n",
    "\n",
    "numerical.isPrime(999)"
   ]
  },
  {
   "cell_type": "code",
   "execution_count": null,
   "metadata": {},
   "outputs": [],
   "source": []
  },
  {
   "cell_type": "code",
   "execution_count": null,
   "metadata": {},
   "outputs": [],
   "source": []
  }
 ],
 "metadata": {
  "kernelspec": {
   "display_name": "Python 3",
   "language": "python",
   "name": "python3"
  },
  "language_info": {
   "codemirror_mode": {
    "name": "ipython",
    "version": 3
   },
   "file_extension": ".py",
   "mimetype": "text/x-python",
   "name": "python",
   "nbconvert_exporter": "python",
   "pygments_lexer": "ipython3",
   "version": "3.7.3"
  }
 },
 "nbformat": 4,
 "nbformat_minor": 2
}
