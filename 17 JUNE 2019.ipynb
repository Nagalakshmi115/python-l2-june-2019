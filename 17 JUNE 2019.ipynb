{
 "cells": [
  {
   "cell_type": "code",
   "execution_count": 4,
   "metadata": {},
   "outputs": [
    {
     "data": {
      "text/plain": [
       "['a', 'b', 'c']"
      ]
     },
     "execution_count": 4,
     "metadata": {},
     "output_type": "execute_result"
    }
   ],
   "source": [
    "# Function to Toggle String Characters\n",
    "\n",
    "s=\"abc\"\n",
    "s.islower()  # checks the characters are in lowercase or not\n",
    "s.isupper()  # checks the characters are in uppercase or not\n",
    "\n",
    "s.upper()  # converts the upper case\n",
    "s.lower()  # converts the lower case\n",
    "list(s)"
   ]
  },
  {
   "cell_type": "code",
   "execution_count": 12,
   "metadata": {},
   "outputs": [
    {
     "data": {
      "text/plain": [
       "'aBc'"
      ]
     },
     "execution_count": 12,
     "metadata": {},
     "output_type": "execute_result"
    }
   ],
   "source": [
    "# Function to toggle string characters\n",
    "\n",
    "def toggleString(s):\n",
    "    s=list(s)\n",
    "    t=[]\n",
    "    for c in s:\n",
    "        if c.islower():\n",
    "            t.append(c.upper())\n",
    "        else:\n",
    "            t.append(c.lower())\n",
    "    return \"\".join(t)\n",
    "toggleString(\"AbC\")\n"
   ]
  },
  {
   "cell_type": "markdown",
   "metadata": {},
   "source": [
    "### Duration\n",
    "\n",
    "- Input: start time,end time (HH,MM)\n",
    "    - HH-{00,01,02,03 .. 23}\n",
    "    - MM-{00,01,02,03 ..59}\n",
    "    - HH MM - {00 00,23 59}\n",
    "    \n",
    "- Output:Time difference in HH MM\n",
    "\n",
    "\n"
   ]
  },
  {
   "cell_type": "code",
   "execution_count": 15,
   "metadata": {},
   "outputs": [
    {
     "name": "stdout",
     "output_type": "stream",
     "text": [
      "5 41\n"
     ]
    }
   ],
   "source": [
    "# Calculate the time difference as total number of minutes\n",
    "# convert the totla minutes into HH MM\n",
    "s=\"2 42 8 23\"\n",
    "def minuteDifference(s):\n",
    "    s=s.split()\n",
    "    sh=int(s[0])\n",
    "    sm=int(s[1])\n",
    "    eh=int(s[2])\n",
    "    em=int(s[3])\n",
    "    startminutes=(sh*60)+sm\n",
    "    endminutes=(eh*60)+em\n",
    "    return endminutes-startminutes\n",
    "    \n",
    "def outputTimeFormat(minutes):\n",
    "    # convert minutes to HH MM\n",
    "    hh=minutes//60\n",
    "    mm=minutes%60\n",
    "    print(hh,mm)\n",
    "    return \n",
    "\n",
    "minutes=minuteDifference(s)\n",
    "outputTimeFormat(minutes)\n",
    "    "
   ]
  },
  {
   "cell_type": "code",
   "execution_count": 6,
   "metadata": {},
   "outputs": [
    {
     "name": "stdout",
     "output_type": "stream",
     "text": [
      "1\n",
      "6\n",
      "yes\n"
     ]
    }
   ],
   "source": [
    "# PERFECT NUMBER\n",
    "\n",
    "def perfect(n):\n",
    "    sum=0\n",
    "    for i in range(1,n):\n",
    "        if n%i==0:\n",
    "            sum=sum+i\n",
    "    if sum==n:\n",
    "        print(\"yes\")\n",
    "    else:\n",
    "        print(\"no\")\n",
    "        \n",
    "t=int(input())\n",
    "for i in range(1,t+1):\n",
    "    n=int(input())\n",
    "    perfect(n)\n",
    "            \n"
   ]
  },
  {
   "cell_type": "code",
   "execution_count": 9,
   "metadata": {},
   "outputs": [
    {
     "name": "stdout",
     "output_type": "stream",
     "text": [
      "1w2\n",
      "2\n",
      "1\n"
     ]
    }
   ],
   "source": [
    "def digits(s):\n",
    "    sum=0\n",
    "    count=0\n",
    "    l=list(s)\n",
    "    for i in s:\n",
    "        if i.isdigit():\n",
    "            count+=1\n",
    "        elif i.isalpha():\n",
    "                sum+=1\n",
    "    print(count)\n",
    "    print(sum)\n",
    "s=input()\n",
    "digits(s)\n",
    "        \n",
    "        "
   ]
  },
  {
   "cell_type": "code",
   "execution_count": null,
   "metadata": {},
   "outputs": [],
   "source": []
  },
  {
   "cell_type": "code",
   "execution_count": null,
   "metadata": {},
   "outputs": [],
   "source": []
  },
  {
   "cell_type": "code",
   "execution_count": null,
   "metadata": {},
   "outputs": [],
   "source": []
  },
  {
   "cell_type": "code",
   "execution_count": null,
   "metadata": {},
   "outputs": [],
   "source": []
  }
 ],
 "metadata": {
  "kernelspec": {
   "display_name": "Python 3",
   "language": "python",
   "name": "python3"
  },
  "language_info": {
   "codemirror_mode": {
    "name": "ipython",
    "version": 3
   },
   "file_extension": ".py",
   "mimetype": "text/x-python",
   "name": "python",
   "nbconvert_exporter": "python",
   "pygments_lexer": "ipython3",
   "version": "3.7.3"
  }
 },
 "nbformat": 4,
 "nbformat_minor": 2
}
